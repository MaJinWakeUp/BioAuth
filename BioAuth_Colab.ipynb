{
 "cells": [
  {
   "cell_type": "markdown",
   "id": "RCVosh8uDbvT",
   "metadata": {
    "id": "RCVosh8uDbvT"
   },
   "source": [
    "# 🧪 BioAuth: Run `RUN.sh` equivalent in Google Colab (no Docker)\n",
    "\n",
    "Colab doesn't support running Docker containers, so this notebook compiles and runs the project **natively** using CMake and Ubuntu packages. It mirrors what `RUN.sh` does by building and launching the experiment binaries directly."
   ]
  },
  {
   "cell_type": "code",
   "execution_count": null,
   "id": "setup_deps",
   "metadata": {
    "colab": {
     "base_uri": "https://localhost:8080/"
    },
    "executionInfo": {
     "elapsed": 8004,
     "status": "ok",
     "timestamp": 1757531648774,
     "user": {
      "displayName": "Jin Ma",
      "userId": "03507420230785520327"
     },
     "user_tz": 240
    },
    "id": "setup_deps",
    "outputId": "c17a3b0a-a610-4cb3-c7fe-93449380152e"
   },
   "outputs": [],
   "source": [
    "%%bash\n",
    "set -euo pipefail\n",
    "echo \"Updating apt and installing build deps...\"\n",
    "sudo apt-get update -y\n",
    "sudo apt-get install -y build-essential cmake git libeigen3-dev libboost-all-dev \\\n",
    "    libssl-dev libgmp-dev libgmpxx4ldbl libpthread-stubs0-dev iproute2 net-tools libtbb-dev\n",
    "echo \"Done. Versions:\"\n",
    "gcc --version | head -n1\n",
    "cmake --version | head -n1\n",
    "openssl version"
   ]
  },
  {
   "cell_type": "markdown",
   "id": "og6gDU05DbvX",
   "metadata": {
    "id": "og6gDU05DbvX"
   },
   "source": [
    "## Get the code\n",
    "Pick **one** option:\n",
    "1) **Upload the ZIP** (e.g., *BioAuth-main.zip*) to Colab (left sidebar → Files), then set `ZIP_PATH` and run.\n",
    "2) (Default) **Git clone** the repository by setting `GIT_URL`.\n"
   ]
  },
  {
   "cell_type": "code",
   "execution_count": null,
   "id": "fetch_code",
   "metadata": {
    "colab": {
     "base_uri": "https://localhost:8080/"
    },
    "executionInfo": {
     "elapsed": 3793,
     "status": "ok",
     "timestamp": 1757531688227,
     "user": {
      "displayName": "Jin Ma",
      "userId": "03507420230785520327"
     },
     "user_tz": 240
    },
    "id": "fetch_code",
    "outputId": "48acea4f-2389-4f4e-9279-31a022ccd6c7"
   },
   "outputs": [],
   "source": [
    "import os, shutil, zipfile\n",
    "\n",
    "# Option A: point this to your uploaded zip (e.g., \"/content/BioAuth-main.zip\")\n",
    "ZIP_PATH = \"/content/BioAuth-main.zip\"  # change if you uploaded elsewhere; leave as-is if not using zip\n",
    "\n",
    "# Option B: repo URL (if public GitHub). Leave empty if using the ZIP option.\n",
    "GIT_URL = \"https://github.com/MaJinWakeUp/BioAuth.git\" #\"https://github.com/sakurasfy/BioAuth.git\"\n",
    "\n",
    "WORKDIR = \"/content\"\n",
    "TARGET_DIR = os.path.join(WORKDIR, \"BioAuth\")\n",
    "\n",
    "# Clean previous copies\n",
    "if os.path.isdir(TARGET_DIR):\n",
    "    shutil.rmtree(TARGET_DIR)\n",
    "\n",
    "if os.path.exists(ZIP_PATH):\n",
    "    print(f\"Unzipping {ZIP_PATH} → {WORKDIR} ...\")\n",
    "    with zipfile.ZipFile(ZIP_PATH) as z:\n",
    "        z.extractall(WORKDIR)\n",
    "    # Try to normalize folder name\n",
    "    # Common patterns: BioAuth-main/, or root folder named after repo\n",
    "    # If you see a different name, feel free to just set TARGET_DIR accordingly.\n",
    "    guess_dirs = [\n",
    "        os.path.join(WORKDIR, d) for d in os.listdir(WORKDIR)\n",
    "        if os.path.isdir(os.path.join(WORKDIR, d)) and d.lower().startswith(\"bioauth\")\n",
    "    ]\n",
    "    if guess_dirs:\n",
    "        src_dir = guess_dirs[0]\n",
    "        print(\"Found directory:\", src_dir)\n",
    "        os.rename(src_dir, TARGET_DIR)\n",
    "    else:\n",
    "        raise RuntimeError(\"Couldn't find unzipped BioAuth directory; set TARGET_DIR manually.\")\n",
    "elif GIT_URL:\n",
    "    import subprocess\n",
    "    print(\"Cloning repo...\")\n",
    "    subprocess.check_call([\"git\", \"clone\", \"--depth\", \"1\", GIT_URL, TARGET_DIR])\n",
    "else:\n",
    "    raise RuntimeError(\"Please upload a ZIP to /content and set ZIP_PATH, or set GIT_URL to clone.\")\n",
    "\n",
    "print(\"Ready. Project folder:\", TARGET_DIR)\n",
    "# print(\"Contents:\", os.listdir(TARGET_DIR)[:50])\n"
   ]
  },
  {
   "cell_type": "markdown",
   "id": "1IV64hXtDbvY",
   "metadata": {
    "id": "1IV64hXtDbvY"
   },
   "source": [
    "## Configure & build (CMake)"
   ]
  },
  {
   "cell_type": "code",
   "execution_count": null,
   "id": "cmake_build",
   "metadata": {
    "colab": {
     "base_uri": "https://localhost:8080/"
    },
    "executionInfo": {
     "elapsed": 100489,
     "status": "ok",
     "timestamp": 1757531964992,
     "user": {
      "displayName": "Jin Ma",
      "userId": "03507420230785520327"
     },
     "user_tz": 240
    },
    "id": "cmake_build",
    "outputId": "21b14739-6558-42c4-f55f-e3ecf1ee8bae"
   },
   "outputs": [],
   "source": [
    "%%bash\n",
    "set -euo pipefail\n",
    "cd /content/BioAuth\n",
    "rm -rf build\n",
    "mkdir -p build\n",
    "cd build\n",
    "cmake .. -DCMAKE_BUILD_TYPE=Release\n",
    "make -j 4\n",
    "cd ..\n",
    "echo -e \"\\033[32mSuccess! Built targets under: /content/BioAuth/build \\033[0m\"\n",
    "# echo \"Listing experiment binaries (if any):\"\n",
    "# find build/experiments -maxdepth 2 -type f -executable -printf \"%p\\n\" || true\n"
   ]
  },
  {
   "cell_type": "markdown",
   "id": "i5Tuj7PvDbvZ",
   "metadata": {
    "id": "i5Tuj7PvDbvZ"
   },
   "source": [
    "## Run Experiment 1: Secure Authentication\n",
    "Settings: Vector Length: 1024, Database Size: 512\n",
    "\n",
    "This will start `party_1` in the background and then run `party_0` in the foreground. Logs are saved under `EXP_DIR`.\n",
    "\n",
    "\n"
   ]
  },
  {
   "cell_type": "code",
   "execution_count": null,
   "id": "run_experiment",
   "metadata": {
    "colab": {
     "base_uri": "https://localhost:8080/"
    },
    "executionInfo": {
     "elapsed": 21826,
     "status": "ok",
     "timestamp": 1757532020957,
     "user": {
      "displayName": "Jin Ma",
      "userId": "03507420230785520327"
     },
     "user_tz": 240
    },
    "id": "run_experiment",
    "outputId": "b4982137-55e4-41df-e510-84938b635f52"
   },
   "outputs": [],
   "source": [
    "%%bash\n",
    "set -euo pipefail\n",
    "\n",
    "# Change this if your path differs:\n",
    "EXP_DIR=\"/content/BioAuth/build/experiments/secure-authentication\"\n",
    "cd \"$EXP_DIR\"\n",
    "\n",
    "mkdir -p fake-offline-data keys\n",
    "\n",
    "# Sanity checks\n",
    "BIN0=./secure_authentication_party_0\n",
    "BIN1=./secure_authentication_party_1\n",
    "for b in \"$BIN0\" \"$BIN1\"; do\n",
    "  if [[ ! -x \"$b\" ]]; then\n",
    "    echo \"Error: expected binary not found or not executable: $b\" >&2\n",
    "    echo \"Tip: re-run your CMake build, then re-check this path.\" >&2\n",
    "    exit 1\n",
    "  fi\n",
    "done\n",
    "\n",
    "echo \"BioAuth Network Simulation Test\"\n",
    "echo \"Testing 4 network configurations...\"\n",
    "echo \"\"\n",
    "\n",
    "# Start party_1 in background, capture its PID; then run party_0 in foreground\n",
    "\"$BIN1\" > party1.log 2>&1 &\n",
    "party1_pid=$!\n",
    "sleep 3\n",
    "\"$BIN0\" | tee party0.log\n",
    "\n",
    "# Wait for background party_1 to finish\n",
    "wait \"$party1_pid\"\n",
    "\n",
    "echo\n",
    "echo \"=== Logs saved in: $EXP_DIR ===\"\n",
    "ls -l party*.log || true\n",
    "\n",
    "# check logs if you want\n",
    "# echo \"Last 20 lines of each log:\"\n",
    "# for f in party1.log party0.log; do\n",
    "#   echo \"---- $f ----\"\n",
    "#   tail -n 20 \"$f\" || true\n",
    "# done\n"
   ]
  },
  {
   "cell_type": "markdown",
   "id": "zHEe3yqJ2t6D",
   "metadata": {
    "id": "zHEe3yqJ2t6D"
   },
   "source": [
    "## Run Experiment 2: Secure Dot Product Online\n",
    "Settings: Vector Length: 1024, Database Size: 512\n",
    "\n",
    "\n"
   ]
  },
  {
   "cell_type": "code",
   "execution_count": null,
   "id": "vP4xbcIt4xyY",
   "metadata": {
    "colab": {
     "base_uri": "https://localhost:8080/"
    },
    "executionInfo": {
     "elapsed": 15642,
     "status": "ok",
     "timestamp": 1757532119767,
     "user": {
      "displayName": "Jin Ma",
      "userId": "03507420230785520327"
     },
     "user_tz": 240
    },
    "id": "vP4xbcIt4xyY",
    "outputId": "3a6a7f12-4775-4a40-c148-eac9f9eba017"
   },
   "outputs": [],
   "source": [
    "%%bash\n",
    "set -euo pipefail\n",
    "\n",
    "# Adjust this if your path differs:\n",
    "EXP_DIR=\"/content/BioAuth/build/experiments/dot-product-db\"\n",
    "\n",
    "cd \"$EXP_DIR\"\n",
    "\n",
    "mkdir -p fake-offline-data keys\n",
    "\n",
    "# Binaries (update names if your build uses different targets)\n",
    "BIN1=./dot_product_db_party_1\n",
    "BIN0=./dot_product_db_party_0\n",
    "\n",
    "# Sanity checks (fail early if not found/executable)\n",
    "for b in \"$BIN1\" \"$BIN0\"; do\n",
    "  if [[ ! -x \"$b\" ]]; then\n",
    "    echo \"Error: expected binary not found or not executable: $b\" >&2\n",
    "    echo \"Tip: re-run CMake build and verify the output path.\" >&2\n",
    "    exit 1\n",
    "  fi\n",
    "done\n",
    "\n",
    "# Equivalent of the Docker CMD script\n",
    "echo \"BioAuth Dot Product Database Test\"\n",
    "echo \"Testing dot product database operations...\"\n",
    "echo \"\"\n",
    "\n",
    "# Start party_1 in the background; run party_0 in the foreground\n",
    "# (Logs captured to files for convenience)\n",
    "\"$BIN1\" > party1.log 2>&1 &\n",
    "party1_pid=$!\n",
    "sleep 3\n",
    "\"$BIN0\" | tee party0.log\n",
    "\n",
    "# Wait for background party_1 to finish\n",
    "wait \"$party1_pid\"\n",
    "\n",
    "echo\n",
    "echo \"=== Logs saved in: $EXP_DIR ===\"\n",
    "ls -l party*.log || true\n",
    "\n",
    "# check logs if you want\n",
    "# echo \"Last 20 lines of each log:\"\n",
    "# for f in party1.log party0.log; do\n",
    "#   echo \"---- $f ----\"\n",
    "#   tail -n 20 \"$f\" || true\n",
    "# done\n"
   ]
  },
  {
   "cell_type": "markdown",
   "id": "ocCa9pHq4ZYb",
   "metadata": {
    "id": "ocCa9pHq4ZYb"
   },
   "source": [
    "## Run Experiment 3: Secure Dot Product Simulated Offline\n",
    "Settings: Vector Length: 1024, Database Size: 256\n",
    "\n",
    "\n"
   ]
  },
  {
   "cell_type": "code",
   "execution_count": null,
   "id": "qWQPGFHU73dS",
   "metadata": {
    "colab": {
     "base_uri": "https://localhost:8080/"
    },
    "executionInfo": {
     "elapsed": 207718,
     "status": "ok",
     "timestamp": 1757532341159,
     "user": {
      "displayName": "Jin Ma",
      "userId": "03507420230785520327"
     },
     "user_tz": 240
    },
    "id": "qWQPGFHU73dS",
    "outputId": "07f9cffb-f60e-4776-8610-010235e168a3"
   },
   "outputs": [],
   "source": [
    "%%bash\n",
    "set -euo pipefail\n",
    "\n",
    "# Adjust this if your path differs:\n",
    "EXP_DIR=\"/content/BioAuth/build/experiments/dot-product-db\"\n",
    "\n",
    "cd \"$EXP_DIR\"\n",
    "\n",
    "# Equivalent of: RUN mkdir -p fake-offline-data keys\n",
    "mkdir -p fake-offline-data keys\n",
    "\n",
    "# Binaries for the OFFLINE variant\n",
    "BIN1=./dot_product_db_offline_party_1\n",
    "BIN0=./dot_product_db_offline_party_0\n",
    "\n",
    "# Sanity checks (fail early if not found/executable)\n",
    "for b in \"$BIN1\" \"$BIN0\"; do\n",
    "  if [[ ! -x \"$b\" ]]; then\n",
    "    echo \"Error: expected binary not found or not executable: $b\" >&2\n",
    "    echo \"Tip: re-run the CMake build and verify the output path.\" >&2\n",
    "    exit 1\n",
    "  fi\n",
    "done\n",
    "\n",
    "# Equivalent of the Docker CMD script\n",
    "echo \"BioAuth Dot Product Database Offline Test\"\n",
    "echo \"Testing dot product database offline operations...\"\n",
    "echo \"\"\n",
    "\n",
    "# Start party_1 in the background; run party_0 in the foreground\n",
    "\"$BIN1\" > party1.log 2>&1 &\n",
    "party1_pid=$!\n",
    "sleep 3\n",
    "\"$BIN0\" | tee party0.log\n",
    "\n",
    "# Wait for background party_1 to finish\n",
    "wait \"$party1_pid\"\n",
    "\n",
    "echo\n",
    "echo \"=== Logs saved in: $EXP_DIR ===\"\n",
    "ls -l party*.log || true\n",
    "\n",
    "# check logs if you want\n",
    "# echo \"Last 20 lines of each log:\"\n",
    "# for f in party1.log party0.log; do\n",
    "#   echo \"---- $f ----\"\n",
    "#   tail -n 20 \"$f\" || true\n",
    "# done\n"
   ]
  },
  {
   "cell_type": "markdown",
   "id": "5tLLdl604oQY",
   "metadata": {
    "id": "5tLLdl604oQY"
   },
   "source": [
    "## Run Experiment 4: Secure Comparison\n",
    "Settings: Rounds: 512\n",
    "\n",
    "\n"
   ]
  },
  {
   "cell_type": "code",
   "execution_count": null,
   "id": "EDhMPI429O63",
   "metadata": {
    "colab": {
     "base_uri": "https://localhost:8080/"
    },
    "executionInfo": {
     "elapsed": 7867,
     "status": "ok",
     "timestamp": 1757532463869,
     "user": {
      "displayName": "Jin Ma",
      "userId": "03507420230785520327"
     },
     "user_tz": 240
    },
    "id": "EDhMPI429O63",
    "outputId": "7773b896-c757-4001-8775-737e29854656"
   },
   "outputs": [],
   "source": [
    "%%bash\n",
    "set -euo pipefail\n",
    "\n",
    "# Adjust this if your path differs:\n",
    "EXP_DIR=\"/content/BioAuth/build/experiments/secure-com\"\n",
    "\n",
    "cd \"$EXP_DIR\"\n",
    "\n",
    "# Equivalent of: RUN mkdir -p fake-offline-data keys\n",
    "mkdir -p fake-offline-data keys\n",
    "\n",
    "# Binaries\n",
    "BIN1=./com_party_1\n",
    "BIN0=./com_party_0\n",
    "\n",
    "# Sanity checks\n",
    "for b in \"$BIN1\" \"$BIN0\"; do\n",
    "  if [[ ! -x \"$b\" ]]; then\n",
    "    echo \"Error: expected binary not found or not executable: $b\" >&2\n",
    "    echo \"Tip: re-run your CMake build and verify EXP_DIR.\" >&2\n",
    "    exit 1\n",
    "  fi\n",
    "done\n",
    "\n",
    "# Equivalent of the Docker CMD script\n",
    "echo \"BioAuth Secure Comparison Test\"\n",
    "echo \"Testing secure comparison operations...\"\n",
    "echo \"\"\n",
    "\n",
    "# Start party_1 (server) in background with log file\n",
    "\"$BIN1\" > party1_output.log 2>&1 &\n",
    "party1_pid=$!\n",
    "\n",
    "# Give server time to start, then run party_0 (client)\n",
    "sleep 3\n",
    "\"$BIN0\" > party0_output.log 2>&1\n",
    "\n",
    "# Wait for party_1 to finish\n",
    "wait \"$party1_pid\"\n",
    "\n",
    "# Print results like your CMD\n",
    "echo \"\"\n",
    "echo \"=== Party 1 (Server) Results ===\"\n",
    "cat party1_output.log || true\n",
    "echo \"\"\n",
    "echo \"=== Party 0 (Client) Results ===\"\n",
    "cat party0_output.log || true\n",
    "echo \"\"\n",
    "echo \"=== Secure Comparison Tests Completed ===\"\n",
    "\n",
    "# Bonus: show where logs are\n",
    "echo \"\"\n",
    "echo \"Logs saved in: $EXP_DIR\"\n",
    "ls -l party*_output.log || true\n",
    "\n",
    "# check logs if you want\n",
    "# echo \"Last 20 lines of each log:\"\n",
    "# for f in party1_output.log party0_output.log; do\n",
    "#   echo \"---- $f ----\"\n",
    "#   tail -n 20 \"$f\" || true\n",
    "# done"
   ]
  }
 ],
 "metadata": {
  "colab": {
   "provenance": []
  },
  "kernelspec": {
   "display_name": "Python 3",
   "language": "python",
   "name": "python3"
  },
  "language_info": {
   "name": "python",
   "version": "3.x"
  }
 },
 "nbformat": 4,
 "nbformat_minor": 5
}
